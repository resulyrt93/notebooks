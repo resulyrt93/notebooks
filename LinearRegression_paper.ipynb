{
 "cells": [
  {
   "cell_type": "code",
   "execution_count": 1,
   "metadata": {},
   "outputs": [
    {
     "name": "stderr",
     "output_type": "stream",
     "text": [
      "C:\\Users\\Lenovo\\Anaconda3\\lib\\site-packages\\statsmodels\\tools\\_testing.py:19: FutureWarning: pandas.util.testing is deprecated. Use the functions in the public API at pandas.testing instead.\n",
      "  import pandas.util.testing as tm\n"
     ]
    }
   ],
   "source": [
    "import vertica_python\n",
    "from sshtunnel import SSHTunnelForwarder\n",
    "import pandas as pd\n",
    "import datetime\n",
    "import matplotlib.pyplot as plt\n",
    "from sklearn.linear_model import LinearRegression\n",
    "from sklearn.model_selection import train_test_split\n",
    "from workalendar.europe import Turkey\n",
    "import numpy as np\n",
    "import seaborn as sns"
   ]
  },
  {
   "cell_type": "code",
   "execution_count": 2,
   "metadata": {
    "scrolled": true
   },
   "outputs": [
    {
     "name": "stdout",
     "output_type": "stream",
     "text": [
      "54487\n"
     ]
    }
   ],
   "source": [
    "server = SSHTunnelForwarder(\n",
    "    'host',\n",
    "    ssh_username=\"user\",\n",
    "    ssh_password=\"pass\",\n",
    "    remote_bind_address=('localhost', 5433)\n",
    ")\n",
    "\n",
    "server.start()\n",
    "print(server.local_bind_port)"
   ]
  },
  {
   "cell_type": "code",
   "execution_count": 3,
   "metadata": {},
   "outputs": [],
   "source": [
    "conn_info = {'host': 'host',\n",
    "             'port': server.local_bind_port,\n",
    "             'user': 'dbadmin',\n",
    "             'password': 'pass',\n",
    "             'database': 'db'}\n",
    "connection = vertica_python.connect(**conn_info)"
   ]
  },
  {
   "cell_type": "code",
   "execution_count": 4,
   "metadata": {},
   "outputs": [],
   "source": [
    "# Functions\n",
    "x_parameters_milk = ['PRODUCT A_price', 'PRODUCT B_price', 'PRODUCT C_price',\n",
    "       'PRODUCT D_price', 'PRODUCT E_price']\n",
    "y_parameters_milk = ['PRODUCT A_weekly_sale', 'PRODUCT B_weekly_sale', 'PRODUCT C_weekly_sale',\n",
    "       'PRODUCT D_weekly_sale', 'PRODUCT E_weekly_sale']\n",
    "translate_milk = {'09.19.071.002': 'PRODUCT A', '09.19.170.0001': 'PRODUCT B', '09.19.208.0002': 'PRODUCT C', '09.19.071.0002': 'PRODUCT D', '09.19.002.0003': 'PRODUCT E'}\n",
    "translate_cheese = {'09.01.071.0009': 'PRODUCT A', '09.01.003.0001': 'PRODUCT B', '09.01.003.0002': 'PRODUCT C'}\n",
    "rename_dict = {'PRODUCT A_weekly_sale':'PRODUCT A' , 'PRODUCT B_weekly_sale':'PRODUCT B', 'PRODUCT C_weekly_sale':'PRODUCT C',\n",
    "       'PRODUCT D_weekly_sale': 'PRODUCT D', 'PRODUCT E_weekly_sale': 'PRODUCT E'}\n",
    "\n",
    "def create_case_df(date, product_type):\n",
    "    if product_type == 'milk':\n",
    "        translate = translate_milk\n",
    "        tail_size = 10\n",
    "    elif product_type == 'cheese':\n",
    "        translate = translate_cheese\n",
    "        tail_size = 6\n",
    "    case_df = weekly_sales_df[(weekly_sales_df[\"week_start_day\"] <= date)]\n",
    "    actual_df = pd.pivot_table(case_df.tail(tail_size).replace(translate), values='weekly_sale', index=['week_iso'],\n",
    "                    columns=['sth_stok_kod'], aggfunc=np.sum).reset_index(drop=True)\n",
    "    return case_df, actual_df\n",
    "\n",
    "def predict_from_test_train(test_df, train_df, product_type='milk'):\n",
    "    if product_type == 'milk':\n",
    "        x_parameters = x_parameters_milk\n",
    "        y_parameters = y_parameters_milk\n",
    "    elif product_type == 'cheese':\n",
    "        x_parameters = x_parameters_milk[:3]\n",
    "        y_parameters = y_parameters_milk[:3]\n",
    "    X = train_df[x_parameters]\n",
    "    y = train_df[y_parameters]\n",
    "    model = LinearRegression()\n",
    "    model.fit(X, y)\n",
    "    predicted_test = model.predict(test_df[x_parameters])\n",
    "    predicted_test_df = pd.DataFrame(predicted_test, columns=y_parameters)\n",
    "    result_df = y.tail(1).append(predicted_test_df)\n",
    "    result_df.rename(columns=rename_dict, inplace=True)\n",
    "    return result_df.reset_index(drop=True)\n",
    "\n",
    "def get_test_train_df(case_df, product_type='milk'):\n",
    "    if product_type == 'milk':\n",
    "        translate = translate_milk\n",
    "    elif product_type == 'cheese':\n",
    "        translate = translate_cheese\n",
    "    case_df = pd.pivot_table(case_df.replace(translate), values=['weekly_sale', 'price'], index=['year', 'week_iso'],\n",
    "                    columns=['sth_stok_kod']).reset_index()\n",
    "    case_df.columns = case_df.columns.map('{0[1]}_{0[0]}'.format)\n",
    "    case_df.rename(columns={\"_year\":\"year\", \"_week_iso\":\"week\"}, inplace=True)\n",
    "    test_df = case_df.tail(1)\n",
    "    train_df = case_df.iloc[:len(case_df.index)-1]\n",
    "    return test_df, train_df\n",
    "\n",
    "def create_increased_decreased_df(actual_df, predicted_df):\n",
    "    df = pd.DataFrame(columns=actual_df.columns)\n",
    "    def create_row(df):\n",
    "        new_row = {}\n",
    "        for column in df.columns:\n",
    "            if df[column][1] > df[column][0]:\n",
    "                new_row[column] = \"Increased\"\n",
    "            else:\n",
    "                new_row[column] = \"Decreased\"\n",
    "        return new_row\n",
    "    df.loc[\"actual\"] = create_row(actual_df)\n",
    "    df.loc[\"predicted\"] = create_row(predicted_df)\n",
    "    return df"
   ]
  },
  {
   "cell_type": "code",
   "execution_count": 5,
   "metadata": {
    "scrolled": true
   },
   "outputs": [
    {
     "data": {
      "text/html": [
       "<div>\n",
       "<style scoped>\n",
       "    .dataframe tbody tr th:only-of-type {\n",
       "        vertical-align: middle;\n",
       "    }\n",
       "\n",
       "    .dataframe tbody tr th {\n",
       "        vertical-align: top;\n",
       "    }\n",
       "\n",
       "    .dataframe thead th {\n",
       "        text-align: right;\n",
       "    }\n",
       "</style>\n",
       "<table border=\"1\" class=\"dataframe\">\n",
       "  <thead>\n",
       "    <tr style=\"text-align: right;\">\n",
       "      <th></th>\n",
       "      <th>year</th>\n",
       "      <th>week_iso</th>\n",
       "      <th>week_start_day</th>\n",
       "      <th>sth_stok_kod</th>\n",
       "      <th>sto_isim</th>\n",
       "      <th>weekly_sale</th>\n",
       "      <th>price</th>\n",
       "    </tr>\n",
       "  </thead>\n",
       "  <tbody>\n",
       "    <tr>\n",
       "      <th>0</th>\n",
       "      <td>2017</td>\n",
       "      <td>1</td>\n",
       "      <td>2017-01-02</td>\n",
       "      <td>09.19.071.002</td>\n",
       "      <td>SUTAS SUT 1 LT GUNLUK PRATIK</td>\n",
       "      <td>217.0</td>\n",
       "      <td>3.008601</td>\n",
       "    </tr>\n",
       "    <tr>\n",
       "      <th>1</th>\n",
       "      <td>2017</td>\n",
       "      <td>1</td>\n",
       "      <td>2017-01-02</td>\n",
       "      <td>09.19.208.0002</td>\n",
       "      <td>EKER SUT 1 LT  GUNLUK</td>\n",
       "      <td>1112.0</td>\n",
       "      <td>3.238625</td>\n",
       "    </tr>\n",
       "    <tr>\n",
       "      <th>2</th>\n",
       "      <td>2017</td>\n",
       "      <td>1</td>\n",
       "      <td>2017-01-02</td>\n",
       "      <td>09.19.170.0001</td>\n",
       "      <td>SEK SUT 1 LT GUNLUK</td>\n",
       "      <td>1523.0</td>\n",
       "      <td>3.655005</td>\n",
       "    </tr>\n",
       "    <tr>\n",
       "      <th>3</th>\n",
       "      <td>2017</td>\n",
       "      <td>1</td>\n",
       "      <td>2017-01-02</td>\n",
       "      <td>09.19.071.0002</td>\n",
       "      <td>SUTAS SUT 1 LT GUNLUK SISE</td>\n",
       "      <td>3095.0</td>\n",
       "      <td>3.469474</td>\n",
       "    </tr>\n",
       "    <tr>\n",
       "      <th>4</th>\n",
       "      <td>2017</td>\n",
       "      <td>1</td>\n",
       "      <td>2017-01-02</td>\n",
       "      <td>09.19.002.0003</td>\n",
       "      <td>ICIM SUT 1 LT CAM SISE GUNLUK</td>\n",
       "      <td>249.0</td>\n",
       "      <td>3.465939</td>\n",
       "    </tr>\n",
       "    <tr>\n",
       "      <th>5</th>\n",
       "      <td>2017</td>\n",
       "      <td>2</td>\n",
       "      <td>2017-01-09</td>\n",
       "      <td>09.19.071.002</td>\n",
       "      <td>SUTAS SUT 1 LT GUNLUK PRATIK</td>\n",
       "      <td>235.0</td>\n",
       "      <td>3.004326</td>\n",
       "    </tr>\n",
       "    <tr>\n",
       "      <th>6</th>\n",
       "      <td>2017</td>\n",
       "      <td>2</td>\n",
       "      <td>2017-01-09</td>\n",
       "      <td>09.19.071.0002</td>\n",
       "      <td>SUTAS SUT 1 LT GUNLUK SISE</td>\n",
       "      <td>2959.0</td>\n",
       "      <td>3.469548</td>\n",
       "    </tr>\n",
       "    <tr>\n",
       "      <th>7</th>\n",
       "      <td>2017</td>\n",
       "      <td>2</td>\n",
       "      <td>2017-01-09</td>\n",
       "      <td>09.19.002.0003</td>\n",
       "      <td>ICIM SUT 1 LT CAM SISE GUNLUK</td>\n",
       "      <td>246.0</td>\n",
       "      <td>3.931826</td>\n",
       "    </tr>\n",
       "    <tr>\n",
       "      <th>8</th>\n",
       "      <td>2017</td>\n",
       "      <td>2</td>\n",
       "      <td>2017-01-09</td>\n",
       "      <td>09.19.208.0002</td>\n",
       "      <td>EKER SUT 1 LT  GUNLUK</td>\n",
       "      <td>951.0</td>\n",
       "      <td>3.238240</td>\n",
       "    </tr>\n",
       "    <tr>\n",
       "      <th>9</th>\n",
       "      <td>2017</td>\n",
       "      <td>2</td>\n",
       "      <td>2017-01-09</td>\n",
       "      <td>09.19.170.0001</td>\n",
       "      <td>SEK SUT 1 LT GUNLUK</td>\n",
       "      <td>1366.0</td>\n",
       "      <td>3.655175</td>\n",
       "    </tr>\n",
       "  </tbody>\n",
       "</table>\n",
       "</div>"
      ],
      "text/plain": [
       "   year  week_iso week_start_day    sth_stok_kod  \\\n",
       "0  2017         1     2017-01-02   09.19.071.002   \n",
       "1  2017         1     2017-01-02  09.19.208.0002   \n",
       "2  2017         1     2017-01-02  09.19.170.0001   \n",
       "3  2017         1     2017-01-02  09.19.071.0002   \n",
       "4  2017         1     2017-01-02  09.19.002.0003   \n",
       "5  2017         2     2017-01-09   09.19.071.002   \n",
       "6  2017         2     2017-01-09  09.19.071.0002   \n",
       "7  2017         2     2017-01-09  09.19.002.0003   \n",
       "8  2017         2     2017-01-09  09.19.208.0002   \n",
       "9  2017         2     2017-01-09  09.19.170.0001   \n",
       "\n",
       "                        sto_isim  weekly_sale     price  \n",
       "0  SUTAS SUT 1 LT GUNLUK PRATIK         217.0  3.008601  \n",
       "1          EKER SUT 1 LT  GUNLUK       1112.0  3.238625  \n",
       "2          SEK SUT 1 LT GUNLUK         1523.0  3.655005  \n",
       "3     SUTAS SUT 1 LT GUNLUK SISE       3095.0  3.469474  \n",
       "4  ICIM SUT 1 LT CAM SISE GUNLUK        249.0  3.465939  \n",
       "5  SUTAS SUT 1 LT GUNLUK PRATIK         235.0  3.004326  \n",
       "6     SUTAS SUT 1 LT GUNLUK SISE       2959.0  3.469548  \n",
       "7  ICIM SUT 1 LT CAM SISE GUNLUK        246.0  3.931826  \n",
       "8          EKER SUT 1 LT  GUNLUK        951.0  3.238240  \n",
       "9          SEK SUT 1 LT GUNLUK         1366.0  3.655175  "
      ]
     },
     "execution_count": 5,
     "metadata": {},
     "output_type": "execute_result"
    }
   ],
   "source": [
    "# PRODUCT A = '09.19.071.002'\n",
    "# PRODUCT B = '09.19.170.0001'\n",
    "# PRODUCT C = '09.19.208.0002'\n",
    "# PRODUCT D = '09.19.071.0002'\n",
    "# PRODUCT E = '09.19.002.0003'\n",
    "stock_codes = ['09.19.071.002', '09.19.170.0001', '09.19.208.0002', '09.19.071.0002', '09.19.002.0003']\n",
    "stock_query = \"('\" + \"\\', \\'\".join(stock_codes) + \"')\"\n",
    "weekly_sales_df = pd.read_sql_query(\"select year(sth_tarih), week_iso(sth_tarih), min(sth_tarih) as week_start_day, sth_stok_kod ,sto_isim, SUM(Satis_Miktar) as weekly_sale, sum(Satis_Tutar) / SUM(Satis_Miktar) as price from DDE_STOK_GUNLUK where sth_stok_kod in {0} and sth_tarih < '2018-12-24' GROUP BY sto_isim, sth_stok_kod, year(sth_tarih), week_iso(sth_tarih) order by year(sth_tarih), week_iso(sth_tarih) asc\".format(stock_query), connection)\n",
    "weekly_sales_df.head(10)"
   ]
  },
  {
   "cell_type": "code",
   "execution_count": 6,
   "metadata": {
    "scrolled": false
   },
   "outputs": [
    {
     "data": {
      "image/png": "[encoded data removed]",
      "text/plain": [
       "<Figure size 1080x720 with 1 Axes>"
      ]
     },
     "metadata": {
      "needs_background": "light"
     },
     "output_type": "display_data"
    }
   ],
   "source": [
    "fig = plt.figure(figsize=(15,10))\n",
    "ax = fig.add_subplot()\n",
    "for stock in stock_codes:\n",
    "    one_stock_df = weekly_sales_df[weekly_sales_df[\"sth_stok_kod\"] == stock]\n",
    "    one_stock_df = one_stock_df.reset_index(drop=False)\n",
    "    ax.plot(one_stock_df.index, one_stock_df.weekly_sale, label=stock)\n",
    "plt.gcf().autofmt_xdate()\n",
    "plt.legend()\n",
    "plt.grid(True)\n",
    "plt.show()"
   ]
  },
  {
   "cell_type": "markdown",
   "metadata": {},
   "source": [
    "## Case1, change rate < %10 for product B (09.19.170.0001) (slice date: 2018-03-19)"
   ]
  },
  {
   "cell_type": "code",
   "execution_count": 7,
   "metadata": {},
   "outputs": [
    {
     "data": {
      "text/html": [
       "<div>\n",
       "<style scoped>\n",
       "    .dataframe tbody tr th:only-of-type {\n",
       "        vertical-align: middle;\n",
       "    }\n",
       "\n",
       "    .dataframe tbody tr th {\n",
       "        vertical-align: top;\n",
       "    }\n",
       "\n",
       "    .dataframe thead th {\n",
       "        text-align: right;\n",
       "    }\n",
       "</style>\n",
       "<table border=\"1\" class=\"dataframe\">\n",
       "  <thead>\n",
       "    <tr style=\"text-align: right;\">\n",
       "      <th>sth_stok_kod</th>\n",
       "      <th>PRODUCT A</th>\n",
       "      <th>PRODUCT B</th>\n",
       "      <th>PRODUCT C</th>\n",
       "      <th>PRODUCT D</th>\n",
       "      <th>PRODUCT E</th>\n",
       "    </tr>\n",
       "  </thead>\n",
       "  <tbody>\n",
       "    <tr>\n",
       "      <th>0</th>\n",
       "      <td>140.0</td>\n",
       "      <td>611.0</td>\n",
       "      <td>1171.0</td>\n",
       "      <td>3023.0</td>\n",
       "      <td>347.0</td>\n",
       "    </tr>\n",
       "    <tr>\n",
       "      <th>1</th>\n",
       "      <td>160.0</td>\n",
       "      <td>701.0</td>\n",
       "      <td>1120.0</td>\n",
       "      <td>3237.0</td>\n",
       "      <td>316.0</td>\n",
       "    </tr>\n",
       "  </tbody>\n",
       "</table>\n",
       "</div>"
      ],
      "text/plain": [
       "sth_stok_kod  PRODUCT A  PRODUCT B  PRODUCT C  PRODUCT D  PRODUCT E\n",
       "0                 140.0      611.0     1171.0     3023.0      347.0\n",
       "1                 160.0      701.0     1120.0     3237.0      316.0"
      ]
     },
     "execution_count": 7,
     "metadata": {},
     "output_type": "execute_result"
    }
   ],
   "source": [
    "case_df, actual_df = create_case_df(date='2018-03-19', product_type='milk')\n",
    "actual_df"
   ]
  },
  {
   "cell_type": "code",
   "execution_count": 8,
   "metadata": {
    "scrolled": true
   },
   "outputs": [
    {
     "data": {
      "text/html": [
       "<div>\n",
       "<style scoped>\n",
       "    .dataframe tbody tr th:only-of-type {\n",
       "        vertical-align: middle;\n",
       "    }\n",
       "\n",
       "    .dataframe tbody tr th {\n",
       "        vertical-align: top;\n",
       "    }\n",
       "\n",
       "    .dataframe thead th {\n",
       "        text-align: right;\n",
       "    }\n",
       "</style>\n",
       "<table border=\"1\" class=\"dataframe\">\n",
       "  <thead>\n",
       "    <tr style=\"text-align: right;\">\n",
       "      <th></th>\n",
       "      <th>PRODUCT A</th>\n",
       "      <th>PRODUCT B</th>\n",
       "      <th>PRODUCT C</th>\n",
       "      <th>PRODUCT D</th>\n",
       "      <th>PRODUCT E</th>\n",
       "    </tr>\n",
       "  </thead>\n",
       "  <tbody>\n",
       "    <tr>\n",
       "      <th>0</th>\n",
       "      <td>140.000000</td>\n",
       "      <td>611.000000</td>\n",
       "      <td>1171.00000</td>\n",
       "      <td>3023.000000</td>\n",
       "      <td>347.000000</td>\n",
       "    </tr>\n",
       "    <tr>\n",
       "      <th>1</th>\n",
       "      <td>143.232713</td>\n",
       "      <td>733.365025</td>\n",
       "      <td>1238.36011</td>\n",
       "      <td>3243.158862</td>\n",
       "      <td>330.281051</td>\n",
       "    </tr>\n",
       "  </tbody>\n",
       "</table>\n",
       "</div>"
      ],
      "text/plain": [
       "    PRODUCT A   PRODUCT B   PRODUCT C    PRODUCT D   PRODUCT E\n",
       "0  140.000000  611.000000  1171.00000  3023.000000  347.000000\n",
       "1  143.232713  733.365025  1238.36011  3243.158862  330.281051"
      ]
     },
     "execution_count": 8,
     "metadata": {},
     "output_type": "execute_result"
    }
   ],
   "source": [
    "test_df, train_df = get_test_train_df(case_df=case_df, product_type='milk')\n",
    "predicted_df = predict_from_test_train(test_df=test_df, train_df=train_df, product_type='milk')\n",
    "predicted_df"
   ]
  },
  {
   "cell_type": "code",
   "execution_count": 9,
   "metadata": {},
   "outputs": [
    {
     "data": {
      "text/html": [
       "<div>\n",
       "<style scoped>\n",
       "    .dataframe tbody tr th:only-of-type {\n",
       "        vertical-align: middle;\n",
       "    }\n",
       "\n",
       "    .dataframe tbody tr th {\n",
       "        vertical-align: top;\n",
       "    }\n",
       "\n",
       "    .dataframe thead th {\n",
       "        text-align: right;\n",
       "    }\n",
       "</style>\n",
       "<table border=\"1\" class=\"dataframe\">\n",
       "  <thead>\n",
       "    <tr style=\"text-align: right;\">\n",
       "      <th>sth_stok_kod</th>\n",
       "      <th>PRODUCT A</th>\n",
       "      <th>PRODUCT B</th>\n",
       "      <th>PRODUCT C</th>\n",
       "      <th>PRODUCT D</th>\n",
       "      <th>PRODUCT E</th>\n",
       "    </tr>\n",
       "  </thead>\n",
       "  <tbody>\n",
       "    <tr>\n",
       "      <th>actual</th>\n",
       "      <td>Increased</td>\n",
       "      <td>Increased</td>\n",
       "      <td>Decreased</td>\n",
       "      <td>Increased</td>\n",
       "      <td>Decreased</td>\n",
       "    </tr>\n",
       "    <tr>\n",
       "      <th>predicted</th>\n",
       "      <td>Increased</td>\n",
       "      <td>Increased</td>\n",
       "      <td>Increased</td>\n",
       "      <td>Increased</td>\n",
       "      <td>Decreased</td>\n",
       "    </tr>\n",
       "  </tbody>\n",
       "</table>\n",
       "</div>"
      ],
      "text/plain": [
       "sth_stok_kod  PRODUCT A  PRODUCT B  PRODUCT C  PRODUCT D  PRODUCT E\n",
       "actual        Increased  Increased  Decreased  Increased  Decreased\n",
       "predicted     Increased  Increased  Increased  Increased  Decreased"
      ]
     },
     "execution_count": 9,
     "metadata": {},
     "output_type": "execute_result"
    }
   ],
   "source": [
    "create_increased_decreased_df(actual_df=actual_df, predicted_df=predicted_df)"
   ]
  },
  {
   "cell_type": "markdown",
   "metadata": {},
   "source": [
    "## Case2, %10 < change rate < %15 for product B (09.19.170.0001) (slice date: 2018-07-30)"
   ]
  },
  {
   "cell_type": "code",
   "execution_count": 10,
   "metadata": {},
   "outputs": [
    {
     "data": {
      "text/html": [
       "<div>\n",
       "<style scoped>\n",
       "    .dataframe tbody tr th:only-of-type {\n",
       "        vertical-align: middle;\n",
       "    }\n",
       "\n",
       "    .dataframe tbody tr th {\n",
       "        vertical-align: top;\n",
       "    }\n",
       "\n",
       "    .dataframe thead th {\n",
       "        text-align: right;\n",
       "    }\n",
       "</style>\n",
       "<table border=\"1\" class=\"dataframe\">\n",
       "  <thead>\n",
       "    <tr style=\"text-align: right;\">\n",
       "      <th>sth_stok_kod</th>\n",
       "      <th>PRODUCT A</th>\n",
       "      <th>PRODUCT B</th>\n",
       "      <th>PRODUCT C</th>\n",
       "      <th>PRODUCT D</th>\n",
       "      <th>PRODUCT E</th>\n",
       "    </tr>\n",
       "  </thead>\n",
       "  <tbody>\n",
       "    <tr>\n",
       "      <th>0</th>\n",
       "      <td>137.0</td>\n",
       "      <td>691.0</td>\n",
       "      <td>1008.0</td>\n",
       "      <td>2948.0</td>\n",
       "      <td>327.0</td>\n",
       "    </tr>\n",
       "    <tr>\n",
       "      <th>1</th>\n",
       "      <td>120.0</td>\n",
       "      <td>681.0</td>\n",
       "      <td>1019.0</td>\n",
       "      <td>2980.0</td>\n",
       "      <td>209.0</td>\n",
       "    </tr>\n",
       "  </tbody>\n",
       "</table>\n",
       "</div>"
      ],
      "text/plain": [
       "sth_stok_kod  PRODUCT A  PRODUCT B  PRODUCT C  PRODUCT D  PRODUCT E\n",
       "0                 137.0      691.0     1008.0     2948.0      327.0\n",
       "1                 120.0      681.0     1019.0     2980.0      209.0"
      ]
     },
     "execution_count": 10,
     "metadata": {},
     "output_type": "execute_result"
    }
   ],
   "source": [
    "case_df, actual_df = create_case_df(date='2018-07-30', product_type='milk')\n",
    "actual_df"
   ]
  },
  {
   "cell_type": "code",
   "execution_count": 11,
   "metadata": {},
   "outputs": [
    {
     "data": {
      "text/html": [
       "<div>\n",
       "<style scoped>\n",
       "    .dataframe tbody tr th:only-of-type {\n",
       "        vertical-align: middle;\n",
       "    }\n",
       "\n",
       "    .dataframe tbody tr th {\n",
       "        vertical-align: top;\n",
       "    }\n",
       "\n",
       "    .dataframe thead th {\n",
       "        text-align: right;\n",
       "    }\n",
       "</style>\n",
       "<table border=\"1\" class=\"dataframe\">\n",
       "  <thead>\n",
       "    <tr style=\"text-align: right;\">\n",
       "      <th></th>\n",
       "      <th>PRODUCT A</th>\n",
       "      <th>PRODUCT B</th>\n",
       "      <th>PRODUCT C</th>\n",
       "      <th>PRODUCT D</th>\n",
       "      <th>PRODUCT E</th>\n",
       "    </tr>\n",
       "  </thead>\n",
       "  <tbody>\n",
       "    <tr>\n",
       "      <th>0</th>\n",
       "      <td>137.000000</td>\n",
       "      <td>691.000000</td>\n",
       "      <td>1008.000000</td>\n",
       "      <td>2948.00000</td>\n",
       "      <td>327.000000</td>\n",
       "    </tr>\n",
       "    <tr>\n",
       "      <th>1</th>\n",
       "      <td>142.721968</td>\n",
       "      <td>595.706031</td>\n",
       "      <td>1105.173896</td>\n",
       "      <td>3075.10171</td>\n",
       "      <td>312.908913</td>\n",
       "    </tr>\n",
       "  </tbody>\n",
       "</table>\n",
       "</div>"
      ],
      "text/plain": [
       "    PRODUCT A   PRODUCT B    PRODUCT C   PRODUCT D   PRODUCT E\n",
       "0  137.000000  691.000000  1008.000000  2948.00000  327.000000\n",
       "1  142.721968  595.706031  1105.173896  3075.10171  312.908913"
      ]
     },
     "execution_count": 11,
     "metadata": {},
     "output_type": "execute_result"
    }
   ],
   "source": [
    "test_df, train_df = get_test_train_df(case_df=case_df, product_type='milk')\n",
    "predicted_df = predict_from_test_train(test_df=test_df, train_df=train_df, product_type='milk')\n",
    "predicted_df"
   ]
  },
  {
   "cell_type": "code",
   "execution_count": 12,
   "metadata": {},
   "outputs": [
    {
     "data": {
      "text/html": [
       "<div>\n",
       "<style scoped>\n",
       "    .dataframe tbody tr th:only-of-type {\n",
       "        vertical-align: middle;\n",
       "    }\n",
       "\n",
       "    .dataframe tbody tr th {\n",
       "        vertical-align: top;\n",
       "    }\n",
       "\n",
       "    .dataframe thead th {\n",
       "        text-align: right;\n",
       "    }\n",
       "</style>\n",
       "<table border=\"1\" class=\"dataframe\">\n",
       "  <thead>\n",
       "    <tr style=\"text-align: right;\">\n",
       "      <th>sth_stok_kod</th>\n",
       "      <th>PRODUCT A</th>\n",
       "      <th>PRODUCT B</th>\n",
       "      <th>PRODUCT C</th>\n",
       "      <th>PRODUCT D</th>\n",
       "      <th>PRODUCT E</th>\n",
       "    </tr>\n",
       "  </thead>\n",
       "  <tbody>\n",
       "    <tr>\n",
       "      <th>actual</th>\n",
       "      <td>Decreased</td>\n",
       "      <td>Decreased</td>\n",
       "      <td>Increased</td>\n",
       "      <td>Increased</td>\n",
       "      <td>Decreased</td>\n",
       "    </tr>\n",
       "    <tr>\n",
       "      <th>predicted</th>\n",
       "      <td>Increased</td>\n",
       "      <td>Decreased</td>\n",
       "      <td>Increased</td>\n",
       "      <td>Increased</td>\n",
       "      <td>Decreased</td>\n",
       "    </tr>\n",
       "  </tbody>\n",
       "</table>\n",
       "</div>"
      ],
      "text/plain": [
       "sth_stok_kod  PRODUCT A  PRODUCT B  PRODUCT C  PRODUCT D  PRODUCT E\n",
       "actual        Decreased  Decreased  Increased  Increased  Decreased\n",
       "predicted     Increased  Decreased  Increased  Increased  Decreased"
      ]
     },
     "execution_count": 12,
     "metadata": {},
     "output_type": "execute_result"
    }
   ],
   "source": [
    "create_increased_decreased_df(actual_df=actual_df, predicted_df=predicted_df)"
   ]
  },
  {
   "cell_type": "markdown",
   "metadata": {},
   "source": [
    "## Case3, %15 < change rate < %20 for product B (09.19.170.0001) (slice date: 2018-04-30)"
   ]
  },
  {
   "cell_type": "code",
   "execution_count": 13,
   "metadata": {},
   "outputs": [
    {
     "data": {
      "text/html": [
       "<div>\n",
       "<style scoped>\n",
       "    .dataframe tbody tr th:only-of-type {\n",
       "        vertical-align: middle;\n",
       "    }\n",
       "\n",
       "    .dataframe tbody tr th {\n",
       "        vertical-align: top;\n",
       "    }\n",
       "\n",
       "    .dataframe thead th {\n",
       "        text-align: right;\n",
       "    }\n",
       "</style>\n",
       "<table border=\"1\" class=\"dataframe\">\n",
       "  <thead>\n",
       "    <tr style=\"text-align: right;\">\n",
       "      <th>sth_stok_kod</th>\n",
       "      <th>PRODUCT A</th>\n",
       "      <th>PRODUCT B</th>\n",
       "      <th>PRODUCT C</th>\n",
       "      <th>PRODUCT D</th>\n",
       "      <th>PRODUCT E</th>\n",
       "    </tr>\n",
       "  </thead>\n",
       "  <tbody>\n",
       "    <tr>\n",
       "      <th>0</th>\n",
       "      <td>133.0</td>\n",
       "      <td>658.0</td>\n",
       "      <td>1084.0</td>\n",
       "      <td>2881.0</td>\n",
       "      <td>370.0</td>\n",
       "    </tr>\n",
       "    <tr>\n",
       "      <th>1</th>\n",
       "      <td>159.0</td>\n",
       "      <td>641.0</td>\n",
       "      <td>1127.0</td>\n",
       "      <td>3061.0</td>\n",
       "      <td>344.0</td>\n",
       "    </tr>\n",
       "  </tbody>\n",
       "</table>\n",
       "</div>"
      ],
      "text/plain": [
       "sth_stok_kod  PRODUCT A  PRODUCT B  PRODUCT C  PRODUCT D  PRODUCT E\n",
       "0                 133.0      658.0     1084.0     2881.0      370.0\n",
       "1                 159.0      641.0     1127.0     3061.0      344.0"
      ]
     },
     "execution_count": 13,
     "metadata": {},
     "output_type": "execute_result"
    }
   ],
   "source": [
    "case_df, actual_df = create_case_df(date='2018-04-30', product_type='milk')\n",
    "actual_df"
   ]
  },
  {
   "cell_type": "code",
   "execution_count": 14,
   "metadata": {},
   "outputs": [
    {
     "data": {
      "text/html": [
       "<div>\n",
       "<style scoped>\n",
       "    .dataframe tbody tr th:only-of-type {\n",
       "        vertical-align: middle;\n",
       "    }\n",
       "\n",
       "    .dataframe tbody tr th {\n",
       "        vertical-align: top;\n",
       "    }\n",
       "\n",
       "    .dataframe thead th {\n",
       "        text-align: right;\n",
       "    }\n",
       "</style>\n",
       "<table border=\"1\" class=\"dataframe\">\n",
       "  <thead>\n",
       "    <tr style=\"text-align: right;\">\n",
       "      <th></th>\n",
       "      <th>PRODUCT A</th>\n",
       "      <th>PRODUCT B</th>\n",
       "      <th>PRODUCT C</th>\n",
       "      <th>PRODUCT D</th>\n",
       "      <th>PRODUCT E</th>\n",
       "    </tr>\n",
       "  </thead>\n",
       "  <tbody>\n",
       "    <tr>\n",
       "      <th>0</th>\n",
       "      <td>133.000000</td>\n",
       "      <td>658.000000</td>\n",
       "      <td>1084.00000</td>\n",
       "      <td>2881.000000</td>\n",
       "      <td>370.000000</td>\n",
       "    </tr>\n",
       "    <tr>\n",
       "      <th>1</th>\n",
       "      <td>155.286081</td>\n",
       "      <td>653.030454</td>\n",
       "      <td>1156.67239</td>\n",
       "      <td>3111.365545</td>\n",
       "      <td>384.263826</td>\n",
       "    </tr>\n",
       "  </tbody>\n",
       "</table>\n",
       "</div>"
      ],
      "text/plain": [
       "    PRODUCT A   PRODUCT B   PRODUCT C    PRODUCT D   PRODUCT E\n",
       "0  133.000000  658.000000  1084.00000  2881.000000  370.000000\n",
       "1  155.286081  653.030454  1156.67239  3111.365545  384.263826"
      ]
     },
     "execution_count": 14,
     "metadata": {},
     "output_type": "execute_result"
    }
   ],
   "source": [
    "test_df, train_df = get_test_train_df(case_df=case_df, product_type='milk')\n",
    "predicted_df = predict_from_test_train(test_df=test_df, train_df=train_df, product_type='milk')\n",
    "predicted_df"
   ]
  },
  {
   "cell_type": "code",
   "execution_count": 15,
   "metadata": {},
   "outputs": [
    {
     "data": {
      "text/html": [
       "<div>\n",
       "<style scoped>\n",
       "    .dataframe tbody tr th:only-of-type {\n",
       "        vertical-align: middle;\n",
       "    }\n",
       "\n",
       "    .dataframe tbody tr th {\n",
       "        vertical-align: top;\n",
       "    }\n",
       "\n",
       "    .dataframe thead th {\n",
       "        text-align: right;\n",
       "    }\n",
       "</style>\n",
       "<table border=\"1\" class=\"dataframe\">\n",
       "  <thead>\n",
       "    <tr style=\"text-align: right;\">\n",
       "      <th>sth_stok_kod</th>\n",
       "      <th>PRODUCT A</th>\n",
       "      <th>PRODUCT B</th>\n",
       "      <th>PRODUCT C</th>\n",
       "      <th>PRODUCT D</th>\n",
       "      <th>PRODUCT E</th>\n",
       "    </tr>\n",
       "  </thead>\n",
       "  <tbody>\n",
       "    <tr>\n",
       "      <th>actual</th>\n",
       "      <td>Increased</td>\n",
       "      <td>Decreased</td>\n",
       "      <td>Increased</td>\n",
       "      <td>Increased</td>\n",
       "      <td>Decreased</td>\n",
       "    </tr>\n",
       "    <tr>\n",
       "      <th>predicted</th>\n",
       "      <td>Increased</td>\n",
       "      <td>Decreased</td>\n",
       "      <td>Increased</td>\n",
       "      <td>Increased</td>\n",
       "      <td>Increased</td>\n",
       "    </tr>\n",
       "  </tbody>\n",
       "</table>\n",
       "</div>"
      ],
      "text/plain": [
       "sth_stok_kod  PRODUCT A  PRODUCT B  PRODUCT C  PRODUCT D  PRODUCT E\n",
       "actual        Increased  Decreased  Increased  Increased  Decreased\n",
       "predicted     Increased  Decreased  Increased  Increased  Increased"
      ]
     },
     "execution_count": 15,
     "metadata": {},
     "output_type": "execute_result"
    }
   ],
   "source": [
    "create_increased_decreased_df(actual_df=actual_df, predicted_df=predicted_df)"
   ]
  },
  {
   "cell_type": "markdown",
   "metadata": {},
   "source": [
    "# Cheese"
   ]
  },
  {
   "cell_type": "code",
   "execution_count": 19,
   "metadata": {},
   "outputs": [
    {
     "data": {
      "text/html": [
       "<div>\n",
       "<style scoped>\n",
       "    .dataframe tbody tr th:only-of-type {\n",
       "        vertical-align: middle;\n",
       "    }\n",
       "\n",
       "    .dataframe tbody tr th {\n",
       "        vertical-align: top;\n",
       "    }\n",
       "\n",
       "    .dataframe thead th {\n",
       "        text-align: right;\n",
       "    }\n",
       "</style>\n",
       "<table border=\"1\" class=\"dataframe\">\n",
       "  <thead>\n",
       "    <tr style=\"text-align: right;\">\n",
       "      <th></th>\n",
       "      <th>year</th>\n",
       "      <th>week_iso</th>\n",
       "      <th>week_start_day</th>\n",
       "      <th>sth_stok_kod</th>\n",
       "      <th>sto_isim</th>\n",
       "      <th>weekly_sale</th>\n",
       "      <th>price</th>\n",
       "    </tr>\n",
       "  </thead>\n",
       "  <tbody>\n",
       "    <tr>\n",
       "      <th>0</th>\n",
       "      <td>2017</td>\n",
       "      <td>1</td>\n",
       "      <td>2017-01-02</td>\n",
       "      <td>09.01.003.0002</td>\n",
       "      <td>PINAR BEYAZ PEYNIR 800 GR SALAMURA</td>\n",
       "      <td>42.0</td>\n",
       "      <td>17.377989</td>\n",
       "    </tr>\n",
       "    <tr>\n",
       "      <th>1</th>\n",
       "      <td>2017</td>\n",
       "      <td>1</td>\n",
       "      <td>2017-01-02</td>\n",
       "      <td>09.01.003.0001</td>\n",
       "      <td>PINAR BEYAZ PEYNIR 800 GR KAHV.KEYFI</td>\n",
       "      <td>30.0</td>\n",
       "      <td>13.417185</td>\n",
       "    </tr>\n",
       "    <tr>\n",
       "      <th>2</th>\n",
       "      <td>2017</td>\n",
       "      <td>1</td>\n",
       "      <td>2017-01-02</td>\n",
       "      <td>09.01.071.0009</td>\n",
       "      <td>SUTAS BEYAZ PEYNIR 700 GR LIGHT</td>\n",
       "      <td>54.0</td>\n",
       "      <td>10.879524</td>\n",
       "    </tr>\n",
       "    <tr>\n",
       "      <th>3</th>\n",
       "      <td>2017</td>\n",
       "      <td>2</td>\n",
       "      <td>2017-01-09</td>\n",
       "      <td>09.01.003.0001</td>\n",
       "      <td>PINAR BEYAZ PEYNIR 800 GR KAHV.KEYFI</td>\n",
       "      <td>49.0</td>\n",
       "      <td>13.363100</td>\n",
       "    </tr>\n",
       "    <tr>\n",
       "      <th>4</th>\n",
       "      <td>2017</td>\n",
       "      <td>2</td>\n",
       "      <td>2017-01-09</td>\n",
       "      <td>09.01.071.0009</td>\n",
       "      <td>SUTAS BEYAZ PEYNIR 700 GR LIGHT</td>\n",
       "      <td>44.0</td>\n",
       "      <td>11.035298</td>\n",
       "    </tr>\n",
       "    <tr>\n",
       "      <th>5</th>\n",
       "      <td>2017</td>\n",
       "      <td>2</td>\n",
       "      <td>2017-01-09</td>\n",
       "      <td>09.01.003.0002</td>\n",
       "      <td>PINAR BEYAZ PEYNIR 800 GR SALAMURA</td>\n",
       "      <td>34.0</td>\n",
       "      <td>17.494646</td>\n",
       "    </tr>\n",
       "    <tr>\n",
       "      <th>6</th>\n",
       "      <td>2017</td>\n",
       "      <td>3</td>\n",
       "      <td>2017-01-16</td>\n",
       "      <td>09.01.003.0001</td>\n",
       "      <td>PINAR BEYAZ PEYNIR 800 GR KAHV.KEYFI</td>\n",
       "      <td>39.0</td>\n",
       "      <td>13.406220</td>\n",
       "    </tr>\n",
       "    <tr>\n",
       "      <th>7</th>\n",
       "      <td>2017</td>\n",
       "      <td>3</td>\n",
       "      <td>2017-01-16</td>\n",
       "      <td>09.01.003.0002</td>\n",
       "      <td>PINAR BEYAZ PEYNIR 800 GR SALAMURA</td>\n",
       "      <td>39.0</td>\n",
       "      <td>17.528300</td>\n",
       "    </tr>\n",
       "    <tr>\n",
       "      <th>8</th>\n",
       "      <td>2017</td>\n",
       "      <td>3</td>\n",
       "      <td>2017-01-16</td>\n",
       "      <td>09.01.071.0009</td>\n",
       "      <td>SUTAS BEYAZ PEYNIR 700 GR LIGHT</td>\n",
       "      <td>55.0</td>\n",
       "      <td>11.054658</td>\n",
       "    </tr>\n",
       "    <tr>\n",
       "      <th>9</th>\n",
       "      <td>2017</td>\n",
       "      <td>4</td>\n",
       "      <td>2017-01-23</td>\n",
       "      <td>09.01.003.0001</td>\n",
       "      <td>PINAR BEYAZ PEYNIR 800 GR KAHV.KEYFI</td>\n",
       "      <td>45.0</td>\n",
       "      <td>13.417284</td>\n",
       "    </tr>\n",
       "  </tbody>\n",
       "</table>\n",
       "</div>"
      ],
      "text/plain": [
       "   year  week_iso week_start_day    sth_stok_kod  \\\n",
       "0  2017         1     2017-01-02  09.01.003.0002   \n",
       "1  2017         1     2017-01-02  09.01.003.0001   \n",
       "2  2017         1     2017-01-02  09.01.071.0009   \n",
       "3  2017         2     2017-01-09  09.01.003.0001   \n",
       "4  2017         2     2017-01-09  09.01.071.0009   \n",
       "5  2017         2     2017-01-09  09.01.003.0002   \n",
       "6  2017         3     2017-01-16  09.01.003.0001   \n",
       "7  2017         3     2017-01-16  09.01.003.0002   \n",
       "8  2017         3     2017-01-16  09.01.071.0009   \n",
       "9  2017         4     2017-01-23  09.01.003.0001   \n",
       "\n",
       "                               sto_isim  weekly_sale      price  \n",
       "0    PINAR BEYAZ PEYNIR 800 GR SALAMURA         42.0  17.377989  \n",
       "1  PINAR BEYAZ PEYNIR 800 GR KAHV.KEYFI         30.0  13.417185  \n",
       "2      SUTAS BEYAZ PEYNIR 700 GR LIGHT          54.0  10.879524  \n",
       "3  PINAR BEYAZ PEYNIR 800 GR KAHV.KEYFI         49.0  13.363100  \n",
       "4      SUTAS BEYAZ PEYNIR 700 GR LIGHT          44.0  11.035298  \n",
       "5    PINAR BEYAZ PEYNIR 800 GR SALAMURA         34.0  17.494646  \n",
       "6  PINAR BEYAZ PEYNIR 800 GR KAHV.KEYFI         39.0  13.406220  \n",
       "7    PINAR BEYAZ PEYNIR 800 GR SALAMURA         39.0  17.528300  \n",
       "8      SUTAS BEYAZ PEYNIR 700 GR LIGHT          55.0  11.054658  \n",
       "9  PINAR BEYAZ PEYNIR 800 GR KAHV.KEYFI         45.0  13.417284  "
      ]
     },
     "execution_count": 19,
     "metadata": {},
     "output_type": "execute_result"
    }
   ],
   "source": [
    "stock_codes = ['09.01.071.0009', '09.01.003.0001', '09.01.003.0002']\n",
    "stock_query = \"('\" + \"\\', \\'\".join(stock_codes) + \"')\"\n",
    "weekly_sales_df = pd.read_sql_query(\"select year(sth_tarih), week_iso(sth_tarih), min(sth_tarih) as week_start_day, sth_stok_kod ,sto_isim, SUM(Satis_Miktar) as weekly_sale, sum(Satis_Tutar) / SUM(Satis_Miktar) as price from DDE_STOK_GUNLUK where sth_stok_kod in {0} and sth_tarih < '2018-12-24' GROUP BY sto_isim, sth_stok_kod, year(sth_tarih), week_iso(sth_tarih) order by year(sth_tarih), week_iso(sth_tarih) asc\".format(stock_query), connection)\n",
    "weekly_sales_df.head(10)"
   ]
  },
  {
   "cell_type": "code",
   "execution_count": 20,
   "metadata": {},
   "outputs": [
    {
     "data": {
      "image/png": "[encoded data removed]",
      "text/plain": [
       "<Figure size 1080x720 with 1 Axes>"
      ]
     },
     "metadata": {
      "needs_background": "light"
     },
     "output_type": "display_data"
    }
   ],
   "source": [
    "fig = plt.figure(figsize=(15,10))\n",
    "ax = fig.add_subplot()\n",
    "for stock in stock_codes:\n",
    "    one_stock_df = weekly_sales_df[weekly_sales_df[\"sth_stok_kod\"] == stock]\n",
    "    one_stock_df = one_stock_df.reset_index(drop=False)\n",
    "    ax.plot(one_stock_df.index, one_stock_df.weekly_sale, label=stock)\n",
    "plt.gcf().autofmt_xdate()\n",
    "plt.legend()\n",
    "plt.grid(True)\n",
    "plt.show()"
   ]
  },
  {
   "cell_type": "markdown",
   "metadata": {},
   "source": [
    "## Case1, change rate < %40 for one product 2018-04-16"
   ]
  },
  {
   "cell_type": "code",
   "execution_count": 21,
   "metadata": {},
   "outputs": [
    {
     "data": {
      "text/html": [
       "<div>\n",
       "<style scoped>\n",
       "    .dataframe tbody tr th:only-of-type {\n",
       "        vertical-align: middle;\n",
       "    }\n",
       "\n",
       "    .dataframe tbody tr th {\n",
       "        vertical-align: top;\n",
       "    }\n",
       "\n",
       "    .dataframe thead th {\n",
       "        text-align: right;\n",
       "    }\n",
       "</style>\n",
       "<table border=\"1\" class=\"dataframe\">\n",
       "  <thead>\n",
       "    <tr style=\"text-align: right;\">\n",
       "      <th>sth_stok_kod</th>\n",
       "      <th>PRODUCT A</th>\n",
       "      <th>PRODUCT B</th>\n",
       "      <th>PRODUCT C</th>\n",
       "    </tr>\n",
       "  </thead>\n",
       "  <tbody>\n",
       "    <tr>\n",
       "      <th>0</th>\n",
       "      <td>46.0</td>\n",
       "      <td>77.0</td>\n",
       "      <td>26.0</td>\n",
       "    </tr>\n",
       "    <tr>\n",
       "      <th>1</th>\n",
       "      <td>49.0</td>\n",
       "      <td>30.0</td>\n",
       "      <td>25.0</td>\n",
       "    </tr>\n",
       "  </tbody>\n",
       "</table>\n",
       "</div>"
      ],
      "text/plain": [
       "sth_stok_kod  PRODUCT A  PRODUCT B  PRODUCT C\n",
       "0                  46.0       77.0       26.0\n",
       "1                  49.0       30.0       25.0"
      ]
     },
     "execution_count": 21,
     "metadata": {},
     "output_type": "execute_result"
    }
   ],
   "source": [
    "case_df, actual_df = create_case_df(date='2018-04-16', product_type='cheese')\n",
    "actual_df"
   ]
  },
  {
   "cell_type": "code",
   "execution_count": 22,
   "metadata": {},
   "outputs": [
    {
     "data": {
      "text/html": [
       "<div>\n",
       "<style scoped>\n",
       "    .dataframe tbody tr th:only-of-type {\n",
       "        vertical-align: middle;\n",
       "    }\n",
       "\n",
       "    .dataframe tbody tr th {\n",
       "        vertical-align: top;\n",
       "    }\n",
       "\n",
       "    .dataframe thead th {\n",
       "        text-align: right;\n",
       "    }\n",
       "</style>\n",
       "<table border=\"1\" class=\"dataframe\">\n",
       "  <thead>\n",
       "    <tr style=\"text-align: right;\">\n",
       "      <th></th>\n",
       "      <th>PRODUCT A</th>\n",
       "      <th>PRODUCT B</th>\n",
       "      <th>PRODUCT C</th>\n",
       "    </tr>\n",
       "  </thead>\n",
       "  <tbody>\n",
       "    <tr>\n",
       "      <th>0</th>\n",
       "      <td>46.000000</td>\n",
       "      <td>77.000000</td>\n",
       "      <td>26.000000</td>\n",
       "    </tr>\n",
       "    <tr>\n",
       "      <th>1</th>\n",
       "      <td>44.611816</td>\n",
       "      <td>20.582792</td>\n",
       "      <td>22.862788</td>\n",
       "    </tr>\n",
       "  </tbody>\n",
       "</table>\n",
       "</div>"
      ],
      "text/plain": [
       "   PRODUCT A  PRODUCT B  PRODUCT C\n",
       "0  46.000000  77.000000  26.000000\n",
       "1  44.611816  20.582792  22.862788"
      ]
     },
     "execution_count": 22,
     "metadata": {},
     "output_type": "execute_result"
    }
   ],
   "source": [
    "test_df, train_df = get_test_train_df(case_df=case_df, product_type='cheese')\n",
    "predicted_df = predict_from_test_train(test_df=test_df, train_df=train_df, product_type='cheese')\n",
    "predicted_df"
   ]
  },
  {
   "cell_type": "code",
   "execution_count": 23,
   "metadata": {},
   "outputs": [
    {
     "data": {
      "text/html": [
       "<div>\n",
       "<style scoped>\n",
       "    .dataframe tbody tr th:only-of-type {\n",
       "        vertical-align: middle;\n",
       "    }\n",
       "\n",
       "    .dataframe tbody tr th {\n",
       "        vertical-align: top;\n",
       "    }\n",
       "\n",
       "    .dataframe thead th {\n",
       "        text-align: right;\n",
       "    }\n",
       "</style>\n",
       "<table border=\"1\" class=\"dataframe\">\n",
       "  <thead>\n",
       "    <tr style=\"text-align: right;\">\n",
       "      <th>sth_stok_kod</th>\n",
       "      <th>PRODUCT A</th>\n",
       "      <th>PRODUCT B</th>\n",
       "      <th>PRODUCT C</th>\n",
       "    </tr>\n",
       "  </thead>\n",
       "  <tbody>\n",
       "    <tr>\n",
       "      <th>actual</th>\n",
       "      <td>Increased</td>\n",
       "      <td>Decreased</td>\n",
       "      <td>Decreased</td>\n",
       "    </tr>\n",
       "    <tr>\n",
       "      <th>predicted</th>\n",
       "      <td>Decreased</td>\n",
       "      <td>Decreased</td>\n",
       "      <td>Decreased</td>\n",
       "    </tr>\n",
       "  </tbody>\n",
       "</table>\n",
       "</div>"
      ],
      "text/plain": [
       "sth_stok_kod  PRODUCT A  PRODUCT B  PRODUCT C\n",
       "actual        Increased  Decreased  Decreased\n",
       "predicted     Decreased  Decreased  Decreased"
      ]
     },
     "execution_count": 23,
     "metadata": {},
     "output_type": "execute_result"
    }
   ],
   "source": [
    "create_increased_decreased_df(actual_df=actual_df, predicted_df=predicted_df)"
   ]
  },
  {
   "cell_type": "markdown",
   "metadata": {},
   "source": [
    "## Case1, (B) 2018-04-23"
   ]
  },
  {
   "cell_type": "code",
   "execution_count": 24,
   "metadata": {},
   "outputs": [
    {
     "data": {
      "text/html": [
       "<div>\n",
       "<style scoped>\n",
       "    .dataframe tbody tr th:only-of-type {\n",
       "        vertical-align: middle;\n",
       "    }\n",
       "\n",
       "    .dataframe tbody tr th {\n",
       "        vertical-align: top;\n",
       "    }\n",
       "\n",
       "    .dataframe thead th {\n",
       "        text-align: right;\n",
       "    }\n",
       "</style>\n",
       "<table border=\"1\" class=\"dataframe\">\n",
       "  <thead>\n",
       "    <tr style=\"text-align: right;\">\n",
       "      <th>sth_stok_kod</th>\n",
       "      <th>PRODUCT A</th>\n",
       "      <th>PRODUCT B</th>\n",
       "      <th>PRODUCT C</th>\n",
       "    </tr>\n",
       "  </thead>\n",
       "  <tbody>\n",
       "    <tr>\n",
       "      <th>0</th>\n",
       "      <td>49.0</td>\n",
       "      <td>30.0</td>\n",
       "      <td>25.0</td>\n",
       "    </tr>\n",
       "    <tr>\n",
       "      <th>1</th>\n",
       "      <td>43.0</td>\n",
       "      <td>254.0</td>\n",
       "      <td>28.0</td>\n",
       "    </tr>\n",
       "  </tbody>\n",
       "</table>\n",
       "</div>"
      ],
      "text/plain": [
       "sth_stok_kod  PRODUCT A  PRODUCT B  PRODUCT C\n",
       "0                  49.0       30.0       25.0\n",
       "1                  43.0      254.0       28.0"
      ]
     },
     "execution_count": 24,
     "metadata": {},
     "output_type": "execute_result"
    }
   ],
   "source": [
    "case_df, actual_df = create_case_df(date='2018-04-23', product_type='cheese')\n",
    "actual_df"
   ]
  },
  {
   "cell_type": "code",
   "execution_count": 25,
   "metadata": {},
   "outputs": [
    {
     "data": {
      "text/html": [
       "<div>\n",
       "<style scoped>\n",
       "    .dataframe tbody tr th:only-of-type {\n",
       "        vertical-align: middle;\n",
       "    }\n",
       "\n",
       "    .dataframe tbody tr th {\n",
       "        vertical-align: top;\n",
       "    }\n",
       "\n",
       "    .dataframe thead th {\n",
       "        text-align: right;\n",
       "    }\n",
       "</style>\n",
       "<table border=\"1\" class=\"dataframe\">\n",
       "  <thead>\n",
       "    <tr style=\"text-align: right;\">\n",
       "      <th></th>\n",
       "      <th>PRODUCT A</th>\n",
       "      <th>PRODUCT B</th>\n",
       "      <th>PRODUCT C</th>\n",
       "    </tr>\n",
       "  </thead>\n",
       "  <tbody>\n",
       "    <tr>\n",
       "      <th>0</th>\n",
       "      <td>49.000000</td>\n",
       "      <td>30.000000</td>\n",
       "      <td>25.000000</td>\n",
       "    </tr>\n",
       "    <tr>\n",
       "      <th>1</th>\n",
       "      <td>58.004341</td>\n",
       "      <td>100.284895</td>\n",
       "      <td>30.102714</td>\n",
       "    </tr>\n",
       "  </tbody>\n",
       "</table>\n",
       "</div>"
      ],
      "text/plain": [
       "   PRODUCT A   PRODUCT B  PRODUCT C\n",
       "0  49.000000   30.000000  25.000000\n",
       "1  58.004341  100.284895  30.102714"
      ]
     },
     "execution_count": 25,
     "metadata": {},
     "output_type": "execute_result"
    }
   ],
   "source": [
    "test_df, train_df = get_test_train_df(case_df=case_df, product_type='cheese')\n",
    "predicted_df = predict_from_test_train(test_df=test_df, train_df=train_df, product_type='cheese')\n",
    "predicted_df"
   ]
  },
  {
   "cell_type": "code",
   "execution_count": 26,
   "metadata": {},
   "outputs": [
    {
     "data": {
      "text/html": [
       "<div>\n",
       "<style scoped>\n",
       "    .dataframe tbody tr th:only-of-type {\n",
       "        vertical-align: middle;\n",
       "    }\n",
       "\n",
       "    .dataframe tbody tr th {\n",
       "        vertical-align: top;\n",
       "    }\n",
       "\n",
       "    .dataframe thead th {\n",
       "        text-align: right;\n",
       "    }\n",
       "</style>\n",
       "<table border=\"1\" class=\"dataframe\">\n",
       "  <thead>\n",
       "    <tr style=\"text-align: right;\">\n",
       "      <th>sth_stok_kod</th>\n",
       "      <th>PRODUCT A</th>\n",
       "      <th>PRODUCT B</th>\n",
       "      <th>PRODUCT C</th>\n",
       "    </tr>\n",
       "  </thead>\n",
       "  <tbody>\n",
       "    <tr>\n",
       "      <th>actual</th>\n",
       "      <td>Decreased</td>\n",
       "      <td>Increased</td>\n",
       "      <td>Increased</td>\n",
       "    </tr>\n",
       "    <tr>\n",
       "      <th>predicted</th>\n",
       "      <td>Increased</td>\n",
       "      <td>Increased</td>\n",
       "      <td>Increased</td>\n",
       "    </tr>\n",
       "  </tbody>\n",
       "</table>\n",
       "</div>"
      ],
      "text/plain": [
       "sth_stok_kod  PRODUCT A  PRODUCT B  PRODUCT C\n",
       "actual        Decreased  Increased  Increased\n",
       "predicted     Increased  Increased  Increased"
      ]
     },
     "execution_count": 26,
     "metadata": {},
     "output_type": "execute_result"
    }
   ],
   "source": [
    "create_increased_decreased_df(actual_df=actual_df, predicted_df=predicted_df)"
   ]
  },
  {
   "cell_type": "markdown",
   "metadata": {},
   "source": [
    "## Case2, change rate > %40 for one product 2018-04-30"
   ]
  },
  {
   "cell_type": "code",
   "execution_count": 27,
   "metadata": {},
   "outputs": [
    {
     "data": {
      "text/html": [
       "<div>\n",
       "<style scoped>\n",
       "    .dataframe tbody tr th:only-of-type {\n",
       "        vertical-align: middle;\n",
       "    }\n",
       "\n",
       "    .dataframe tbody tr th {\n",
       "        vertical-align: top;\n",
       "    }\n",
       "\n",
       "    .dataframe thead th {\n",
       "        text-align: right;\n",
       "    }\n",
       "</style>\n",
       "<table border=\"1\" class=\"dataframe\">\n",
       "  <thead>\n",
       "    <tr style=\"text-align: right;\">\n",
       "      <th>sth_stok_kod</th>\n",
       "      <th>PRODUCT A</th>\n",
       "      <th>PRODUCT B</th>\n",
       "      <th>PRODUCT C</th>\n",
       "    </tr>\n",
       "  </thead>\n",
       "  <tbody>\n",
       "    <tr>\n",
       "      <th>0</th>\n",
       "      <td>43.0</td>\n",
       "      <td>254.0</td>\n",
       "      <td>28.0</td>\n",
       "    </tr>\n",
       "    <tr>\n",
       "      <th>1</th>\n",
       "      <td>58.0</td>\n",
       "      <td>61.0</td>\n",
       "      <td>29.0</td>\n",
       "    </tr>\n",
       "  </tbody>\n",
       "</table>\n",
       "</div>"
      ],
      "text/plain": [
       "sth_stok_kod  PRODUCT A  PRODUCT B  PRODUCT C\n",
       "0                  43.0      254.0       28.0\n",
       "1                  58.0       61.0       29.0"
      ]
     },
     "execution_count": 27,
     "metadata": {},
     "output_type": "execute_result"
    }
   ],
   "source": [
    "case_df, actual_df = create_case_df(date='2018-04-30', product_type='cheese')\n",
    "actual_df"
   ]
  },
  {
   "cell_type": "code",
   "execution_count": 28,
   "metadata": {},
   "outputs": [
    {
     "data": {
      "text/html": [
       "<div>\n",
       "<style scoped>\n",
       "    .dataframe tbody tr th:only-of-type {\n",
       "        vertical-align: middle;\n",
       "    }\n",
       "\n",
       "    .dataframe tbody tr th {\n",
       "        vertical-align: top;\n",
       "    }\n",
       "\n",
       "    .dataframe thead th {\n",
       "        text-align: right;\n",
       "    }\n",
       "</style>\n",
       "<table border=\"1\" class=\"dataframe\">\n",
       "  <thead>\n",
       "    <tr style=\"text-align: right;\">\n",
       "      <th></th>\n",
       "      <th>PRODUCT A</th>\n",
       "      <th>PRODUCT B</th>\n",
       "      <th>PRODUCT C</th>\n",
       "    </tr>\n",
       "  </thead>\n",
       "  <tbody>\n",
       "    <tr>\n",
       "      <th>0</th>\n",
       "      <td>43.000000</td>\n",
       "      <td>254.000000</td>\n",
       "      <td>28.000000</td>\n",
       "    </tr>\n",
       "    <tr>\n",
       "      <th>1</th>\n",
       "      <td>48.105936</td>\n",
       "      <td>47.550109</td>\n",
       "      <td>24.188787</td>\n",
       "    </tr>\n",
       "  </tbody>\n",
       "</table>\n",
       "</div>"
      ],
      "text/plain": [
       "   PRODUCT A   PRODUCT B  PRODUCT C\n",
       "0  43.000000  254.000000  28.000000\n",
       "1  48.105936   47.550109  24.188787"
      ]
     },
     "execution_count": 28,
     "metadata": {},
     "output_type": "execute_result"
    }
   ],
   "source": [
    "test_df, train_df = get_test_train_df(case_df=case_df, product_type='cheese')\n",
    "predicted_df = predict_from_test_train(test_df=test_df, train_df=train_df, product_type='cheese')\n",
    "predicted_df"
   ]
  },
  {
   "cell_type": "code",
   "execution_count": 29,
   "metadata": {},
   "outputs": [
    {
     "data": {
      "text/html": [
       "<div>\n",
       "<style scoped>\n",
       "    .dataframe tbody tr th:only-of-type {\n",
       "        vertical-align: middle;\n",
       "    }\n",
       "\n",
       "    .dataframe tbody tr th {\n",
       "        vertical-align: top;\n",
       "    }\n",
       "\n",
       "    .dataframe thead th {\n",
       "        text-align: right;\n",
       "    }\n",
       "</style>\n",
       "<table border=\"1\" class=\"dataframe\">\n",
       "  <thead>\n",
       "    <tr style=\"text-align: right;\">\n",
       "      <th>sth_stok_kod</th>\n",
       "      <th>PRODUCT A</th>\n",
       "      <th>PRODUCT B</th>\n",
       "      <th>PRODUCT C</th>\n",
       "    </tr>\n",
       "  </thead>\n",
       "  <tbody>\n",
       "    <tr>\n",
       "      <th>actual</th>\n",
       "      <td>Increased</td>\n",
       "      <td>Decreased</td>\n",
       "      <td>Increased</td>\n",
       "    </tr>\n",
       "    <tr>\n",
       "      <th>predicted</th>\n",
       "      <td>Increased</td>\n",
       "      <td>Decreased</td>\n",
       "      <td>Decreased</td>\n",
       "    </tr>\n",
       "  </tbody>\n",
       "</table>\n",
       "</div>"
      ],
      "text/plain": [
       "sth_stok_kod  PRODUCT A  PRODUCT B  PRODUCT C\n",
       "actual        Increased  Decreased  Increased\n",
       "predicted     Increased  Decreased  Decreased"
      ]
     },
     "execution_count": 29,
     "metadata": {},
     "output_type": "execute_result"
    }
   ],
   "source": [
    "create_increased_decreased_df(actual_df=actual_df, predicted_df=predicted_df)"
   ]
  },
  {
   "cell_type": "code",
   "execution_count": null,
   "metadata": {},
   "outputs": [],
   "source": []
  }
 ],
 "metadata": {
  "kernelspec": {
   "display_name": "Python 3",
   "language": "python",
   "name": "python3"
  },
  "language_info": {
   "codemirror_mode": {
    "name": "ipython",
    "version": 3
   },
   "file_extension": ".py",
   "mimetype": "text/x-python",
   "name": "python",
   "nbconvert_exporter": "python",
   "pygments_lexer": "ipython3",
   "version": "3.7.4"
  }
 },
 "nbformat": 4,
 "nbformat_minor": 2
}
